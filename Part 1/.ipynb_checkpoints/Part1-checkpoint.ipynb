{
 "cells": [
  {
   "cell_type": "markdown",
   "metadata": {},
   "source": [
    "# PART 1: Modelling point neurons"
   ]
  },
  {
   "cell_type": "markdown",
   "metadata": {},
   "source": [
    "## 1. Hodgkin-Huxley model"
   ]
  },
  {
   "cell_type": "markdown",
   "metadata": {},
   "source": [
    "### <b>(a)</b> `(1 point)` \n",
    "#### Plot $x_{∞}$(V) and $τ_{x}$(V) for the state variables n, m, h and explain briefly their physiological meaning."
   ]
  },
  {
   "cell_type": "code",
   "execution_count": null,
   "metadata": {},
   "outputs": [],
   "source": []
  },
  {
   "cell_type": "markdown",
   "metadata": {},
   "source": [
    "### <b>(b)</b> `(1 point)` \n",
    "#### Check that if I = 0 the neuron goes to a resting state and describe the regime values of the state variables"
   ]
  },
  {
   "cell_type": "code",
   "execution_count": null,
   "metadata": {},
   "outputs": [],
   "source": []
  },
  {
   "cell_type": "markdown",
   "metadata": {},
   "source": [
    "### <b>(c)</b> `(2 points)`  \n",
    "#### Stimulate the neuron model with intracellular single-pulse currents \n",
    "#### $$ I(t) =\n",
    "  \\begin{cases}\n",
    "    A       & \\quad \\text{if } t_{i} < t \\leq t_{i}+PW \\\\\n",
    "    0  & \\quad \\text{otherwise}\n",
    "  \\end{cases} $$  \n",
    "#### (choose $t_{i}$ > 0). Provide a set of simulations showing that the activation of the neuron depends from the quantity Q = A · PW and interpret the found dependency (it is sufficient to fix a couple of values for A and to perform a sweep of the variable PW)."
   ]
  },
  {
   "cell_type": "code",
   "execution_count": null,
   "metadata": {},
   "outputs": [],
   "source": []
  },
  {
   "cell_type": "markdown",
   "metadata": {},
   "source": [
    "## 2. Morris-Lecar model"
   ]
  },
  {
   "cell_type": "markdown",
   "metadata": {},
   "source": [
    "### <b>(a)</b> `(3 points)` \n",
    "#### Stimulate the neuron model with step currents $$ I(t) = \\begin{cases}  A       & \\quad \\text{if } t \\geq t_{i} \\\\  0  & \\quad \\text{otherwise}   \\end{cases} $$ for A = [0,12,20,40,150,300,400] $\\mu A / cm^{2}$ and plot the time-course of the model state variables as well as the phase plot with the state variable nullsclines."
   ]
  },
  {
   "cell_type": "code",
   "execution_count": null,
   "metadata": {},
   "outputs": [],
   "source": []
  },
  {
   "cell_type": "markdown",
   "metadata": {},
   "source": [
    "### <b>(b)</b> `(3 points)`  \n",
    "#### Justify the behaviours observed in the previous point computing the equilibrium point for the systems and its stability."
   ]
  },
  {
   "cell_type": "code",
   "execution_count": null,
   "metadata": {},
   "outputs": [],
   "source": []
  },
  {
   "cell_type": "markdown",
   "metadata": {},
   "source": [
    "## 3. Izhikevich model"
   ]
  },
  {
   "cell_type": "markdown",
   "metadata": {},
   "source": [
    "### <b>(a)</b> `(2 points)` \n",
    "#### Given the model formulation\n",
    "#### $$C\\dot v = k(v-v_{r})(v-v_{t})-u+I \\\\\n",
    " \\dot u = a[b(v-v_{r}-u)] \\\\\n",
    " \\text{if } v \\geq v_{peak}, \\text{ then } v \\leftarrow c, \\text{ } u \\leftarrow u+d$$\n",
    "#### propose some simulations showing the meaning of the parameters $v_{peak}$, $v_{r}$, $v_{t}$, $C$, $a$ (start from a reasonable set of parameters, try varying one parameter at a time and describe what you observe and why you expected it."
   ]
  },
  {
   "cell_type": "code",
   "execution_count": null,
   "metadata": {},
   "outputs": [],
   "source": []
  },
  {
   "cell_type": "markdown",
   "metadata": {},
   "source": [
    "### <b>(b)</b> `(3 points)` \n",
    "#### A neuron has a rheobase current of 50 pA, an input resistance equal to 80 MΩ, a membrane time constant equal to 8 ms (the recovery variable time constant is 30 ms). Additionally, its response to different amplitude current pulses has been recorded. The time-course of the membrane potential is shown in the next page. Set reasonable values for all the parameters of an Izhikevich neuron simulating its behaviour.\n",
    "\n",
    "<img src=\"Captura de pantalla (139).png\">"
   ]
  },
  {
   "cell_type": "code",
   "execution_count": null,
   "metadata": {},
   "outputs": [],
   "source": []
  }
 ],
 "metadata": {
  "kernelspec": {
   "display_name": "Python 3",
   "language": "python",
   "name": "python3"
  },
  "language_info": {
   "codemirror_mode": {
    "name": "ipython",
    "version": 3
   },
   "file_extension": ".py",
   "mimetype": "text/x-python",
   "name": "python",
   "nbconvert_exporter": "python",
   "pygments_lexer": "ipython3",
   "version": "3.7.6"
  }
 },
 "nbformat": 4,
 "nbformat_minor": 4
}
