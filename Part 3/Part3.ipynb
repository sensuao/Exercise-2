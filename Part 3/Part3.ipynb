{
 "cells": [
  {
   "cell_type": "markdown",
   "metadata": {},
   "source": [
    "# Part 3: Modelling nerve stimulation"
   ]
  },
  {
   "cell_type": "markdown",
   "metadata": {},
   "source": [
    "## 1. Single-site recruitment curves and selectivity"
   ]
  },
  {
   "cell_type": "markdown",
   "metadata": {},
   "source": [
    "### <b>(a)</b> `(3 points)` \n",
    "#### Consider 7 active sites in locations\n",
    "#### $$ \n",
    "  \\begin{cases}\n",
    "    x = (j-3)l, \\\\\n",
    "    y = 0\n",
    "  \\end{cases} $$ \n",
    "#### with $l=2$, $j$ $\\epsilon$ $[0,7]$. Plot the single-site recruitment curves for the three groups of fibers whose locations are distributed according to multivariate gaussians with the following parameters $\\mu_{1}$ = [1, 2], σ = 1, $N_{1}$ = 100, $\\mu_{2}$ = [−2, 5], $\\sigma_{2}$ = 2, $N_2$ = 100, $\\mu_3$ = [3, −6], $\\sigma_3$ = 3, $N_3$ = 250 if activation of a fiber in $(x, y)$ is given by act = 1$[V (x, y) > \\theta]$ with $\\theta = 1$, $\\sigma = 1$, $I \\epsilon [0, 10]$ ⊂ ${\\rm I\\!R}$ (you can try 10 different values)."
   ]
  },
  {
   "cell_type": "code",
   "execution_count": null,
   "metadata": {},
   "outputs": [],
   "source": []
  },
  {
   "cell_type": "markdown",
   "metadata": {},
   "source": [
    "### <b>(b)</b> `(2 points)` \n",
    "####  Compute the selectivity corresponding to the simulated stimulation protocols and identify the stimulation protocols that lead to the highest selectivity of stimulation of each group and compute the total selectivity. Provide an interpretation to your results"
   ]
  },
  {
   "cell_type": "code",
   "execution_count": null,
   "metadata": {},
   "outputs": [],
   "source": []
  },
  {
   "cell_type": "markdown",
   "metadata": {},
   "source": [
    "### <b>(c)</b> `(4 points)` \n",
    "#### Suppose that you are allowed to rotate/displace the electrode (apply $xy$ rotation matrix/add same vector to site locations). Can you find the insertion that gives the best total selectivity? Provide an interpretation to your results."
   ]
  },
  {
   "cell_type": "code",
   "execution_count": null,
   "metadata": {},
   "outputs": [],
   "source": []
  },
  {
   "cell_type": "markdown",
   "metadata": {},
   "source": [
    "## 2. Multi-site stimulation optimization"
   ]
  },
  {
   "cell_type": "markdown",
   "metadata": {},
   "source": [
    "### <b>(a)</b> `(2 points)` \n",
    "####  Can you improve the group-wise maximum selectivities obtained in Question 1(b) (note: the electrode is again as in Question 1(a))? \n",
    "#### Try to manually tweak the currents and report your findings.\n",
    "#### _Hint: to optimize you will need to use a derivative-free optimization method (you are trying to optimize a piece-wise constant function). You may use genetic algorithms or particle swarm optimization._"
   ]
  },
  {
   "cell_type": "code",
   "execution_count": null,
   "metadata": {},
   "outputs": [],
   "source": []
  },
  {
   "cell_type": "markdown",
   "metadata": {},
   "source": [
    "### <b>(b)</b> `(4 points)` \n",
    "#### Build an optimization routine (see the hint above) to find the best multi-site stimulation protocols. Report the best multi-site total selectivity and provide an interpretation to your results.\n",
    "#### _Hint: now the optimization variables are the seven current values from the sites. Currents can now be negative to allow steering. Consider each group separately._\n",
    "#### _Hint 2: you will need to perform a lot of tries (I did 10 independent runs for the optimization using 100 particles for 1000 generations) to obtain decent results. Why?_"
   ]
  },
  {
   "cell_type": "code",
   "execution_count": null,
   "metadata": {},
   "outputs": [],
   "source": []
  }
 ],
 "metadata": {
  "kernelspec": {
   "display_name": "Python 3",
   "language": "python",
   "name": "python3"
  },
  "language_info": {
   "codemirror_mode": {
    "name": "ipython",
    "version": 3
   },
   "file_extension": ".py",
   "mimetype": "text/x-python",
   "name": "python",
   "nbconvert_exporter": "python",
   "pygments_lexer": "ipython3",
   "version": "3.7.6"
  }
 },
 "nbformat": 4,
 "nbformat_minor": 4
}
